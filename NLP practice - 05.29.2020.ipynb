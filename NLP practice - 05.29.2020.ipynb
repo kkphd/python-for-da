{
  "nbformat": 4,
  "nbformat_minor": 0,
  "metadata": {
    "colab": {
      "name": "NLP practice - 05.29.2020.ipynb",
      "provenance": [],
      "collapsed_sections": []
    },
    "kernelspec": {
      "name": "python3",
      "display_name": "Python 3"
    }
  },
  "cells": [
    {
      "cell_type": "markdown",
      "metadata": {
        "id": "jbEHTu_TUM-p",
        "colab_type": "text"
      },
      "source": [
        "# Day 4 Take Home Assignment\n",
        "\n",
        "Choose a Twitter user that you like or are interested in. If you don't want to choose one you can use Elon Musk's Twitter account for this exercise (@elonmusk). \n",
        "\n",
        "Collect the text of 20 tweets from this account and do the following with these tweets:\n",
        "\n",
        "**Processing**\n",
        "\n",
        "- use the \"clean\" function in the \"preprocessor.api\" package to do an initial cleaning.\n",
        "- set all words in the tweets to lowercase.\n",
        "- remove stop words and other punctuation.\n",
        "\n",
        "**Tokenization**\n",
        "\n",
        "- save all the tweets as a single string and tokenize the tweets. Report the length of the list containing the tokens.\n",
        "\n",
        "**Statistics**\n",
        "\n",
        "- Find the top 10 most frequent words in the tweets and report them."
      ]
    },
    {
      "cell_type": "code",
      "metadata": {
        "id": "twXs8UoDZ8J9",
        "colab_type": "code",
        "colab": {
          "base_uri": "https://localhost:8080/",
          "height": 193
        },
        "outputId": "60c67023-3f07-498e-83d0-96df883cc4c6"
      },
      "source": [
        "pip install stop-words"
      ],
      "execution_count": 5,
      "outputs": [
        {
          "output_type": "stream",
          "text": [
            "Collecting stop-words\n",
            "  Downloading https://files.pythonhosted.org/packages/1c/cb/d58290804b7a4c5daa42abbbe2a93c477ae53e45541b1825e86f0dfaaf63/stop-words-2018.7.23.tar.gz\n",
            "Building wheels for collected packages: stop-words\n",
            "  Building wheel for stop-words (setup.py) ... \u001b[?25l\u001b[?25hdone\n",
            "  Created wheel for stop-words: filename=stop_words-2018.7.23-cp36-none-any.whl size=32917 sha256=2b47b443bc3affedad616f2e3176db28b773a19309daf48656509230e2af010d\n",
            "  Stored in directory: /root/.cache/pip/wheels/75/37/6a/2b295e03bd07290f0da95c3adb9a74ba95fbc333aa8b0c7c78\n",
            "Successfully built stop-words\n",
            "Installing collected packages: stop-words\n",
            "Successfully installed stop-words-2018.7.23\n"
          ],
          "name": "stdout"
        }
      ]
    },
    {
      "cell_type": "code",
      "metadata": {
        "id": "fNmC1eJGfoKY",
        "colab_type": "code",
        "outputId": "98072dec-1630-43c8-8e78-93a177cf5bda",
        "colab": {
          "base_uri": "https://localhost:8080/",
          "height": 35
        }
      },
      "source": [
        "import tweepy\n",
        "import nltk\n",
        "from nltk.tokenize import sent_tokenize, word_tokenize\n",
        "from nltk.probability import FreqDist\n",
        "from nltk.corpus import stopwords\n",
        "import stop_words\n",
        "import json\n",
        "import pprint as pp\n",
        "from preprocessor.api import clean, tokenize, parse\n",
        "import matplotlib.pyplot as plt\n",
        "\n",
        "CONSUMER_KEY = # API Key\n",
        "CONSUMER_SECRET = #API Secret Key\n",
        "OAUTH_TOKEN = # Access Token\n",
        "OAUTH_SECRET = # Access Token Secret\n",
        "\n",
        "auth = tweepy.OAuthHandler(CONSUMER_KEY, CONSUMER_SECRET)\n",
        "auth.set_access_token(OAUTH_TOKEN, OAUTH_SECRET)\n",
        "\n",
        "api = tweepy.API(auth)\n",
        "api"
      ],
      "execution_count": 7,
      "outputs": [
        {
          "output_type": "execute_result",
          "data": {
            "text/plain": [
              "<tweepy.api.API at 0x7fa9a422d9b0>"
            ]
          },
          "metadata": {
            "tags": []
          },
          "execution_count": 7
        }
      ]
    },
    {
      "cell_type": "code",
      "metadata": {
        "id": "ORCmXxK4zbne",
        "colab_type": "code",
        "outputId": "76d5f01c-0bf0-4beb-9022-ef7cd12e1355",
        "colab": {
          "base_uri": "https://localhost:8080/",
          "height": 1000
        }
      },
      "source": [
        "tweets = api.user_timeline(screen_name='@elonmusk', count=20)\n",
        "tweets[0]._json"
      ],
      "execution_count": 8,
      "outputs": [
        {
          "output_type": "execute_result",
          "data": {
            "text/plain": [
              "{'contributors': None,\n",
              " 'coordinates': None,\n",
              " 'created_at': 'Sat Jun 06 20:47:33 +0000 2020',\n",
              " 'entities': {'hashtags': [],\n",
              "  'symbols': [],\n",
              "  'urls': [],\n",
              "  'user_mentions': [{'id': 29873662,\n",
              "    'id_str': '29873662',\n",
              "    'indices': [0, 6],\n",
              "    'name': 'Marques Brownlee',\n",
              "    'screen_name': 'MKBHD'}]},\n",
              " 'favorite_count': 944,\n",
              " 'favorited': False,\n",
              " 'geo': None,\n",
              " 'id': 1269370365651738624,\n",
              " 'id_str': '1269370365651738624',\n",
              " 'in_reply_to_screen_name': 'MKBHD',\n",
              " 'in_reply_to_status_id': 1269366679282298881,\n",
              " 'in_reply_to_status_id_str': '1269366679282298881',\n",
              " 'in_reply_to_user_id': 29873662,\n",
              " 'in_reply_to_user_id_str': '29873662',\n",
              " 'is_quote_status': False,\n",
              " 'lang': 'en',\n",
              " 'place': None,\n",
              " 'retweet_count': 41,\n",
              " 'retweeted': False,\n",
              " 'source': '<a href=\"http://twitter.com/download/iphone\" rel=\"nofollow\">Twitter for iPhone</a>',\n",
              " 'text': '@MKBHD Big line at the barbershop',\n",
              " 'truncated': False,\n",
              " 'user': {'contributors_enabled': False,\n",
              "  'created_at': 'Tue Jun 02 20:12:29 +0000 2009',\n",
              "  'default_profile': False,\n",
              "  'default_profile_image': False,\n",
              "  'description': '',\n",
              "  'entities': {'description': {'urls': []}},\n",
              "  'favourites_count': 5739,\n",
              "  'follow_request_sent': False,\n",
              "  'followers_count': 35712036,\n",
              "  'following': False,\n",
              "  'friends_count': 92,\n",
              "  'geo_enabled': False,\n",
              "  'has_extended_profile': True,\n",
              "  'id': 44196397,\n",
              "  'id_str': '44196397',\n",
              "  'is_translation_enabled': False,\n",
              "  'is_translator': False,\n",
              "  'lang': None,\n",
              "  'listed_count': 53406,\n",
              "  'location': '',\n",
              "  'name': 'Elon Musk',\n",
              "  'notifications': False,\n",
              "  'profile_background_color': 'C0DEED',\n",
              "  'profile_background_image_url': 'http://abs.twimg.com/images/themes/theme1/bg.png',\n",
              "  'profile_background_image_url_https': 'https://abs.twimg.com/images/themes/theme1/bg.png',\n",
              "  'profile_background_tile': False,\n",
              "  'profile_banner_url': 'https://pbs.twimg.com/profile_banners/44196397/1576183471',\n",
              "  'profile_image_url': 'http://pbs.twimg.com/profile_images/1259649222485241858/SO3NRgvJ_normal.jpg',\n",
              "  'profile_image_url_https': 'https://pbs.twimg.com/profile_images/1259649222485241858/SO3NRgvJ_normal.jpg',\n",
              "  'profile_link_color': '0084B4',\n",
              "  'profile_sidebar_border_color': 'C0DEED',\n",
              "  'profile_sidebar_fill_color': 'DDEEF6',\n",
              "  'profile_text_color': '333333',\n",
              "  'profile_use_background_image': True,\n",
              "  'protected': False,\n",
              "  'screen_name': 'elonmusk',\n",
              "  'statuses_count': 11183,\n",
              "  'time_zone': None,\n",
              "  'translator_type': 'none',\n",
              "  'url': None,\n",
              "  'utc_offset': None,\n",
              "  'verified': True}}"
            ]
          },
          "metadata": {
            "tags": []
          },
          "execution_count": 8
        }
      ]
    },
    {
      "cell_type": "code",
      "metadata": {
        "id": "RC9eFNGw-ogY",
        "colab_type": "code",
        "colab": {}
      },
      "source": [
        "elontweets = []\n",
        "\n",
        "for tweet in tweets:\n",
        "  elontweets.append(tweet._json)"
      ],
      "execution_count": 0,
      "outputs": []
    },
    {
      "cell_type": "code",
      "metadata": {
        "id": "J4bcnoaV9ua2",
        "colab_type": "code",
        "colab": {}
      },
      "source": [
        "elontweet_text = []\n",
        "\n",
        "for tweet in elontweets:\n",
        "  elontweet_text.append(tweet['text'])"
      ],
      "execution_count": 0,
      "outputs": []
    },
    {
      "cell_type": "code",
      "metadata": {
        "id": "fRoDG2bE-VDx",
        "colab_type": "code",
        "outputId": "a5bfcd58-d989-4fbe-dc69-3f67500c6327",
        "colab": {
          "base_uri": "https://localhost:8080/",
          "height": 485
        }
      },
      "source": [
        "pp.pprint(elontweet_text)"
      ],
      "execution_count": 11,
      "outputs": [
        {
          "output_type": "stream",
          "text": [
            "['@MKBHD Big line at the barbershop',\n",
            " '@akidesir Thursday',\n",
            " '@CodingMark I guess more people need to get more involved in the party '\n",
            " 'primaries (which is a chore)',\n",
            " 'The gerontocracy is out of touch with the people',\n",
            " 'Selling weed literally went from major felony to essential business (open '\n",
            " 'during pandemic) in much of America &amp; yet… https://t.co/32J0z4qDTI',\n",
            " 'This will probably get me into trouble, but I feel I have to say it',\n",
            " '@PPathole Good point haha',\n",
            " 'Order a Tesla online in 2 mins at https://t.co/46TXqRrsdr',\n",
            " 'Tesla Model Y review by Dan Neil https://t.co/3oS85UFaaR',\n",
            " '@NASASpaceflight Methalox is the right propellant. Should be staged '\n",
            " 'combustion &amp; highly reusable.',\n",
            " '@Martian_Will @flcnhvy @Jbw29pitt @PPathole Yes',\n",
            " '@flcnhvy @Jbw29pitt @PPathole About a dozen transfer windows, so ~25 years',\n",
            " '@flcnhvy @SpaceX @NASA Wow, hard to believe that was 10 years ago!',\n",
            " '@cam5442 @FlatJannrickles @AlexBerenson @JeffBezos @jack @Twitter Jack is '\n",
            " 'doing his best. I support him.',\n",
            " 'RT @SpaceX: Falcon 9 flew for the first time ten years ago today. Completing '\n",
            " '85 missions to date, Falcon 9 is now the most flown operationa…',\n",
            " '@AlexBerenson @JeffBezos Time to break up Amazon. Monopolies are wrong!',\n",
            " '@AlexBerenson This is insane @JeffBezos',\n",
            " '@PPathole That’s when all life on Earth will be boiled off. What matters is '\n",
            " 'how long civilization is capable of mak… https://t.co/aFvzUkbPJs',\n",
            " '@SciGuySpace So many war stories over 18 eventful years! But Starship can '\n",
            " 'make life multiplanetary, which is what r… https://t.co/Ll2LjvwNia',\n",
            " 'RT @mayemusk: Always incredible!\\U0001f929\\U0001f929 @SpaceX 👏👏']\n"
          ],
          "name": "stdout"
        }
      ]
    },
    {
      "cell_type": "code",
      "metadata": {
        "id": "vgha_DUqADcs",
        "colab_type": "code",
        "colab": {}
      },
      "source": [
        "elon_clean = [clean(x) for x in elontweet_text]"
      ],
      "execution_count": 0,
      "outputs": []
    },
    {
      "cell_type": "code",
      "metadata": {
        "id": "jAF2wOCQBOow",
        "colab_type": "code",
        "outputId": "518d30bb-98af-4376-e33d-678ae77ce04d",
        "colab": {
          "base_uri": "https://localhost:8080/",
          "height": 384
        }
      },
      "source": [
        "elon_clean"
      ],
      "execution_count": 13,
      "outputs": [
        {
          "output_type": "execute_result",
          "data": {
            "text/plain": [
              "['Big line at the barbershop',\n",
              " 'Thursday',\n",
              " 'I guess more people need to get more involved in the party primaries (which is a chore)',\n",
              " 'The gerontocracy is out of touch with the people',\n",
              " 'Selling weed literally went from major felony to essential business (open during pandemic) in much of America &amp; yet',\n",
              " 'This will probably get me into trouble, but I feel I have to say it',\n",
              " 'Good point haha',\n",
              " 'Order a Tesla online in mins at',\n",
              " 'Tesla Model Y review by Dan Neil',\n",
              " 'Methalox is the right propellant. Should be staged combustion &amp; highly reusable.',\n",
              " 'Yes',\n",
              " 'About a dozen transfer windows, so ~25 years',\n",
              " 'Wow, hard to believe that was years ago!',\n",
              " 'Jack is doing his best. I support him.',\n",
              " ': Falcon flew for the first time ten years ago today. Completing missions to date, Falcon is now the most flown operationa',\n",
              " 'Time to break up Amazon. Monopolies are wrong!',\n",
              " 'This is insane',\n",
              " 'Thats when all life on Earth will be boiled off. What matters is how long civilization is capable of mak',\n",
              " 'So many war stories over eventful years! But Starship can make life multiplanetary, which is what r',\n",
              " ': Always incredible!']"
            ]
          },
          "metadata": {
            "tags": []
          },
          "execution_count": 13
        }
      ]
    },
    {
      "cell_type": "code",
      "metadata": {
        "id": "wbQ4MN7lDGsZ",
        "colab_type": "code",
        "outputId": "fba92ce5-919a-4d5c-e9f2-6d2b0a376eb8",
        "colab": {
          "base_uri": "https://localhost:8080/",
          "height": 35
        }
      },
      "source": [
        "type(elon_clean)"
      ],
      "execution_count": 14,
      "outputs": [
        {
          "output_type": "execute_result",
          "data": {
            "text/plain": [
              "list"
            ]
          },
          "metadata": {
            "tags": []
          },
          "execution_count": 14
        }
      ]
    },
    {
      "cell_type": "code",
      "metadata": {
        "id": "uG-rCKjqDkwG",
        "colab_type": "code",
        "outputId": "175b9837-c842-47b6-8831-7bf95b8ff820",
        "colab": {
          "base_uri": "https://localhost:8080/",
          "height": 124
        }
      },
      "source": [
        "elon_clean[0:5]"
      ],
      "execution_count": 15,
      "outputs": [
        {
          "output_type": "execute_result",
          "data": {
            "text/plain": [
              "['Big line at the barbershop',\n",
              " 'Thursday',\n",
              " 'I guess more people need to get more involved in the party primaries (which is a chore)',\n",
              " 'The gerontocracy is out of touch with the people',\n",
              " 'Selling weed literally went from major felony to essential business (open during pandemic) in much of America &amp; yet']"
            ]
          },
          "metadata": {
            "tags": []
          },
          "execution_count": 15
        }
      ]
    },
    {
      "cell_type": "code",
      "metadata": {
        "id": "BBK_b1_REK8w",
        "colab_type": "code",
        "outputId": "09a3ec85-5c42-4d43-ab4f-ca64dfb51498",
        "colab": {
          "base_uri": "https://localhost:8080/",
          "height": 124
        }
      },
      "source": [
        "elon_superclean = []\n",
        "\n",
        "for tweet in elon_clean:\n",
        "  if len(tweet)>0:\n",
        "    elon_superclean.append(tweet.lower())\n",
        "  \n",
        "elon_superclean[0:5]"
      ],
      "execution_count": 16,
      "outputs": [
        {
          "output_type": "execute_result",
          "data": {
            "text/plain": [
              "['big line at the barbershop',\n",
              " 'thursday',\n",
              " 'i guess more people need to get more involved in the party primaries (which is a chore)',\n",
              " 'the gerontocracy is out of touch with the people',\n",
              " 'selling weed literally went from major felony to essential business (open during pandemic) in much of america &amp; yet']"
            ]
          },
          "metadata": {
            "tags": []
          },
          "execution_count": 16
        }
      ]
    },
    {
      "cell_type": "code",
      "metadata": {
        "id": "qkuYE-vYEbGt",
        "colab_type": "code",
        "colab": {}
      },
      "source": [
        "def list_to_string(s):\n",
        "  str1 = \" \"\n",
        "  return (str1.join(s))"
      ],
      "execution_count": 0,
      "outputs": []
    },
    {
      "cell_type": "code",
      "metadata": {
        "id": "d444UaCrFHt3",
        "colab_type": "code",
        "outputId": "184f7d06-2634-4bd0-83ac-454117656d5d",
        "colab": {
          "base_uri": "https://localhost:8080/",
          "height": 55
        }
      },
      "source": [
        "elontweets_string = list_to_string(elon_superclean)\n",
        "elontweets_string"
      ],
      "execution_count": 18,
      "outputs": [
        {
          "output_type": "execute_result",
          "data": {
            "text/plain": [
              "'big line at the barbershop thursday i guess more people need to get more involved in the party primaries (which is a chore) the gerontocracy is out of touch with the people selling weed literally went from major felony to essential business (open during pandemic) in much of america &amp; yet this will probably get me into trouble, but i feel i have to say it good point haha order a tesla online in mins at tesla model y review by dan neil methalox is the right propellant. should be staged combustion &amp; highly reusable. yes about a dozen transfer windows, so ~25 years wow, hard to believe that was years ago! jack is doing his best. i support him. : falcon flew for the first time ten years ago today. completing missions to date, falcon is now the most flown operationa time to break up amazon. monopolies are wrong! this is insane thats when all life on earth will be boiled off. what matters is how long civilization is capable of mak so many war stories over eventful years! but starship can make life multiplanetary, which is what r : always incredible!'"
            ]
          },
          "metadata": {
            "tags": []
          },
          "execution_count": 18
        }
      ]
    },
    {
      "cell_type": "code",
      "metadata": {
        "id": "HaizW3iMacJg",
        "colab_type": "code",
        "colab": {
          "base_uri": "https://localhost:8080/",
          "height": 69
        },
        "outputId": "0afe074c-a3b9-43c6-d307-e837bc86cb97"
      },
      "source": [
        "import nltk\n",
        "nltk.download('punkt')"
      ],
      "execution_count": 20,
      "outputs": [
        {
          "output_type": "stream",
          "text": [
            "[nltk_data] Downloading package punkt to /root/nltk_data...\n",
            "[nltk_data]   Unzipping tokenizers/punkt.zip.\n"
          ],
          "name": "stdout"
        },
        {
          "output_type": "execute_result",
          "data": {
            "text/plain": [
              "True"
            ]
          },
          "metadata": {
            "tags": []
          },
          "execution_count": 20
        }
      ]
    },
    {
      "cell_type": "code",
      "metadata": {
        "id": "M8j_lywCFWNy",
        "colab_type": "code",
        "outputId": "c46340ff-b0f0-4bec-a038-0a10e450f88b",
        "colab": {
          "base_uri": "https://localhost:8080/",
          "height": 191
        }
      },
      "source": [
        "elontweets_tokenized = word_tokenize(elontweets_string)\n",
        "elontweets_tokenized[0:10]"
      ],
      "execution_count": 21,
      "outputs": [
        {
          "output_type": "execute_result",
          "data": {
            "text/plain": [
              "['big',\n",
              " 'line',\n",
              " 'at',\n",
              " 'the',\n",
              " 'barbershop',\n",
              " 'thursday',\n",
              " 'i',\n",
              " 'guess',\n",
              " 'more',\n",
              " 'people']"
            ]
          },
          "metadata": {
            "tags": []
          },
          "execution_count": 21
        }
      ]
    },
    {
      "cell_type": "code",
      "metadata": {
        "id": "gqkIiNIEanHe",
        "colab_type": "code",
        "colab": {
          "base_uri": "https://localhost:8080/",
          "height": 69
        },
        "outputId": "48189c54-56c1-42c9-9284-b7b1173cc55c"
      },
      "source": [
        "import nltk\n",
        "nltk.download('stopwords')"
      ],
      "execution_count": 23,
      "outputs": [
        {
          "output_type": "stream",
          "text": [
            "[nltk_data] Downloading package stopwords to /root/nltk_data...\n",
            "[nltk_data]   Unzipping corpora/stopwords.zip.\n"
          ],
          "name": "stdout"
        },
        {
          "output_type": "execute_result",
          "data": {
            "text/plain": [
              "True"
            ]
          },
          "metadata": {
            "tags": []
          },
          "execution_count": 23
        }
      ]
    },
    {
      "cell_type": "code",
      "metadata": {
        "id": "nA6lEXlTFrnt",
        "colab_type": "code",
        "colab": {}
      },
      "source": [
        "from nltk.corpus import stopwords\n",
        "\n",
        "stop_words = set(stopwords.words('english'))"
      ],
      "execution_count": 0,
      "outputs": []
    },
    {
      "cell_type": "code",
      "metadata": {
        "id": "z51b1fwuGw_P",
        "colab_type": "code",
        "colab": {}
      },
      "source": [
        "elon_tokenized_clean = []\n",
        "\n",
        "for word in elontweets_tokenized:\n",
        "  if (word not in stop_words) and len(word)>2:\n",
        "    elon_tokenized_clean.append(word)"
      ],
      "execution_count": 0,
      "outputs": []
    },
    {
      "cell_type": "code",
      "metadata": {
        "id": "dW8RFELAHZL4",
        "colab_type": "code",
        "colab": {}
      },
      "source": [
        "elon_tweets_freq = FreqDist(elon_tokenized_clean)"
      ],
      "execution_count": 0,
      "outputs": []
    },
    {
      "cell_type": "code",
      "metadata": {
        "id": "Z9AoG97eHmo9",
        "colab_type": "code",
        "outputId": "b8e70fbb-562f-454c-aae3-50a9a3b9867c",
        "colab": {
          "base_uri": "https://localhost:8080/",
          "height": 191
        }
      },
      "source": [
        "pp.pprint(elon_tweets_freq.most_common(10))"
      ],
      "execution_count": 27,
      "outputs": [
        {
          "output_type": "stream",
          "text": [
            "[('years', 4),\n",
            " ('people', 2),\n",
            " ('get', 2),\n",
            " ('amp', 2),\n",
            " ('tesla', 2),\n",
            " ('ago', 2),\n",
            " ('falcon', 2),\n",
            " ('time', 2),\n",
            " ('life', 2),\n",
            " ('big', 1)]\n"
          ],
          "name": "stdout"
        }
      ]
    },
    {
      "cell_type": "code",
      "metadata": {
        "id": "9L2saKyrBBWT",
        "colab_type": "code",
        "outputId": "b81f6d4c-9f69-4614-b73f-5a23a4eeb1f1",
        "colab": {
          "base_uri": "https://localhost:8080/",
          "height": 35
        }
      },
      "source": [
        "len(elon_tokenized_clean)"
      ],
      "execution_count": 28,
      "outputs": [
        {
          "output_type": "execute_result",
          "data": {
            "text/plain": [
              "108"
            ]
          },
          "metadata": {
            "tags": []
          },
          "execution_count": 28
        }
      ]
    },
    {
      "cell_type": "code",
      "metadata": {
        "id": "Ho67EdZhHqLh",
        "colab_type": "code",
        "outputId": "070b8b2b-9462-410a-c59b-1ad58c60ca7a",
        "colab": {
          "base_uri": "https://localhost:8080/",
          "height": 303
        }
      },
      "source": [
        "elon_tweets_freq.plot(10, cumulative=False)\n",
        "plt.show()"
      ],
      "execution_count": 29,
      "outputs": [
        {
          "output_type": "display_data",
          "data": {
            "image/png": "[encoded data removed]",
            "text/plain": [
              "<Figure size 432x288 with 1 Axes>"
            ]
          },
          "metadata": {
            "tags": [],
            "needs_background": "light"
          }
        }
      ]
    }
  ]
}