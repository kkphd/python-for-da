{
  "nbformat": 4,
  "nbformat_minor": 0,
  "metadata": {
    "colab": {
      "name": "pandas practice - 05.27.2020.ipynb",
      "provenance": [],
      "collapsed_sections": []
    },
    "kernelspec": {
      "name": "python3",
      "display_name": "Python 3"
    }
  },
  "cells": [
    {
      "cell_type": "markdown",
      "metadata": {
        "id": "1e7larLp4z_r",
        "colab_type": "text"
      },
      "source": [
        "# Day 2 Take Home Assignment\n",
        "\n",
        "For this assignment we will be dealing with the Pew World Religion Dataset which contains the projected proportion of people in each religious group in each country over time: https://github.com/datasets/world-religion-projections/blob/master/rounded_percentage.csv\n",
        "\n",
        "You can find the raw data here: https://raw.githubusercontent.com/datasets/world-religion-projections/master/rounded_percentage.csv\n",
        "\n",
        "**Questions**\n",
        "\n",
        "1. Load the dataset and call it \"religion_projected\" as a Pandas dataframe.\n",
        "\n",
        "2. Subset the data by selecting only those projections that are the \"World\" region and create a new dataframe called \"religion_subset\".\n",
        "\n",
        "3. Using a two sample t-test of means and the \"religion_subset\" dataset, test the hypothesis that the average projected proportion of Buddhists in the world is greater than the average projected proportion of Christians. Report the t-statistic and p-value.\n",
        "\n",
        "4. Using the full dataset create a series of boxplots with projected Year on the x axis and proportion of Christians in the Sub-Saharan Africa region on the Y axis.\n",
        "\n",
        "5. Create a plot with the following parameters: \n",
        " - Projected Year on the x-axis.\n",
        " - 3 lines cotaining information about:\n",
        "    1. The projected proportion of Muslims in Europe\n",
        "    2. The projected proportion of Muslims in the Asia-Pacific region and;\n",
        "    3. The projeced proportion of Muslims in the Nortm America region."
      ]
    },
    {
      "cell_type": "code",
      "metadata": {
        "id": "Cc2Ar4tHwk4F",
        "colab_type": "code",
        "outputId": "bd44e9f5-cfba-4fbd-f73c-c4acac02053f",
        "colab": {
          "base_uri": "https://localhost:8080/",
          "height": 175
        }
      },
      "source": [
        "import pandas as pd\n",
        "import numpy as np\n",
        "import matplotlib.pyplot as plt\n",
        "import statsmodels.api as sm\n",
        "import seaborn as s\n",
        "\n",
        "# Question 1\n",
        "\n",
        "religion_projected = pd.read_csv('https://raw.githubusercontent.com/datasets/world-religion-projections/master/rounded_percentage.csv')\n",
        "religion_projected.head(3)"
      ],
      "execution_count": 2,
      "outputs": [
        {
          "output_type": "stream",
          "text": [
            "/usr/local/lib/python3.6/dist-packages/statsmodels/tools/_testing.py:19: FutureWarning: pandas.util.testing is deprecated. Use the functions in the public API at pandas.testing instead.\n",
            "  import pandas.util.testing as tm\n"
          ],
          "name": "stderr"
        },
        {
          "output_type": "execute_result",
          "data": {
            "text/html": [
              "<div>\n",
              "<style scoped>\n",
              "    .dataframe tbody tr th:only-of-type {\n",
              "        vertical-align: middle;\n",
              "    }\n",
              "\n",
              "    .dataframe tbody tr th {\n",
              "        vertical-align: top;\n",
              "    }\n",
              "\n",
              "    .dataframe thead th {\n",
              "        text-align: right;\n",
              "    }\n",
              "</style>\n",
              "<table border=\"1\" class=\"dataframe\">\n",
              "  <thead>\n",
              "    <tr style=\"text-align: right;\">\n",
              "      <th></th>\n",
              "      <th>Year</th>\n",
              "      <th>Region</th>\n",
              "      <th>Country</th>\n",
              "      <th>Buddhists</th>\n",
              "      <th>Christians</th>\n",
              "      <th>Folk Religions</th>\n",
              "      <th>Hindus</th>\n",
              "      <th>Jews</th>\n",
              "      <th>Muslims</th>\n",
              "      <th>Other Religions</th>\n",
              "      <th>Unaffiliated</th>\n",
              "    </tr>\n",
              "  </thead>\n",
              "  <tbody>\n",
              "    <tr>\n",
              "      <th>0</th>\n",
              "      <td>2010</td>\n",
              "      <td>World</td>\n",
              "      <td>All Countries</td>\n",
              "      <td>7.1</td>\n",
              "      <td>31.4</td>\n",
              "      <td>5.9</td>\n",
              "      <td>15.0</td>\n",
              "      <td>1.0</td>\n",
              "      <td>23.2</td>\n",
              "      <td>1.0</td>\n",
              "      <td>16.4</td>\n",
              "    </tr>\n",
              "    <tr>\n",
              "      <th>1</th>\n",
              "      <td>2010</td>\n",
              "      <td>North America</td>\n",
              "      <td>All Countries</td>\n",
              "      <td>1.1</td>\n",
              "      <td>77.4</td>\n",
              "      <td>1.0</td>\n",
              "      <td>1.0</td>\n",
              "      <td>1.8</td>\n",
              "      <td>1.0</td>\n",
              "      <td>1.0</td>\n",
              "      <td>17.1</td>\n",
              "    </tr>\n",
              "    <tr>\n",
              "      <th>2</th>\n",
              "      <td>2010</td>\n",
              "      <td>Latin America-Caribbean</td>\n",
              "      <td>All Countries</td>\n",
              "      <td>1.0</td>\n",
              "      <td>90.0</td>\n",
              "      <td>1.7</td>\n",
              "      <td>1.0</td>\n",
              "      <td>1.0</td>\n",
              "      <td>1.0</td>\n",
              "      <td>1.0</td>\n",
              "      <td>7.7</td>\n",
              "    </tr>\n",
              "  </tbody>\n",
              "</table>\n",
              "</div>"
            ],
            "text/plain": [
              "   Year                   Region  ... Other Religions  Unaffiliated\n",
              "0  2010                    World  ...             1.0          16.4\n",
              "1  2010            North America  ...             1.0          17.1\n",
              "2  2010  Latin America-Caribbean  ...             1.0           7.7\n",
              "\n",
              "[3 rows x 11 columns]"
            ]
          },
          "metadata": {
            "tags": []
          },
          "execution_count": 2
        }
      ]
    },
    {
      "cell_type": "code",
      "metadata": {
        "id": "GiLA9d-oxKGL",
        "colab_type": "code",
        "outputId": "03a3be11-97e5-411e-f497-14e3b11ffd0b",
        "colab": {
          "base_uri": "https://localhost:8080/",
          "height": 69
        }
      },
      "source": [
        "# Question 2\n",
        "\n",
        "religion_projected['Region'].unique()"
      ],
      "execution_count": 3,
      "outputs": [
        {
          "output_type": "execute_result",
          "data": {
            "text/plain": [
              "array([' World', 'North America', 'Latin America-Caribbean', 'Europe',\n",
              "       'Middle East-North Africa', 'Sub-Saharan Africa', 'Asia-Pacific'],\n",
              "      dtype=object)"
            ]
          },
          "metadata": {
            "tags": []
          },
          "execution_count": 3
        }
      ]
    },
    {
      "cell_type": "code",
      "metadata": {
        "id": "_ns8D8N4pwi8",
        "colab_type": "code",
        "outputId": "9555cb31-e875-4cd2-de3d-50c120b779cc",
        "colab": {
          "base_uri": "https://localhost:8080/",
          "height": 35
        }
      },
      "source": [
        "# Answer - Dimensions of the dataframe\n",
        "\n",
        "religion_projected.shape # Tells you the # of rows and the # of columns"
      ],
      "execution_count": 4,
      "outputs": [
        {
          "output_type": "execute_result",
          "data": {
            "text/plain": [
              "(1205, 11)"
            ]
          },
          "metadata": {
            "tags": []
          },
          "execution_count": 4
        }
      ]
    },
    {
      "cell_type": "code",
      "metadata": {
        "id": "epMmFdOsDkGB",
        "colab_type": "code",
        "outputId": "fb9b86bd-9182-4185-d7ea-7b0641cd8a32",
        "colab": {
          "base_uri": "https://localhost:8080/",
          "height": 69
        }
      },
      "source": [
        "religion_projected['Region'] = religion_projected['Region'].map(lambda x: x.strip())\n",
        "religion_projected['Region'].unique()"
      ],
      "execution_count": 5,
      "outputs": [
        {
          "output_type": "execute_result",
          "data": {
            "text/plain": [
              "array(['World', 'North America', 'Latin America-Caribbean', 'Europe',\n",
              "       'Middle East-North Africa', 'Sub-Saharan Africa', 'Asia-Pacific'],\n",
              "      dtype=object)"
            ]
          },
          "metadata": {
            "tags": []
          },
          "execution_count": 5
        }
      ]
    },
    {
      "cell_type": "code",
      "metadata": {
        "id": "zPUzybQo2I_G",
        "colab_type": "code",
        "outputId": "10323b6a-69b9-46a9-fb7c-18dd72d98662",
        "colab": {
          "base_uri": "https://localhost:8080/",
          "height": 202
        }
      },
      "source": [
        "religion_subset = religion_projected.loc[religion_projected['Region']=='World']\n",
        "religion_subset.head()"
      ],
      "execution_count": 6,
      "outputs": [
        {
          "output_type": "execute_result",
          "data": {
            "text/html": [
              "<div>\n",
              "<style scoped>\n",
              "    .dataframe tbody tr th:only-of-type {\n",
              "        vertical-align: middle;\n",
              "    }\n",
              "\n",
              "    .dataframe tbody tr th {\n",
              "        vertical-align: top;\n",
              "    }\n",
              "\n",
              "    .dataframe thead th {\n",
              "        text-align: right;\n",
              "    }\n",
              "</style>\n",
              "<table border=\"1\" class=\"dataframe\">\n",
              "  <thead>\n",
              "    <tr style=\"text-align: right;\">\n",
              "      <th></th>\n",
              "      <th>Year</th>\n",
              "      <th>Region</th>\n",
              "      <th>Country</th>\n",
              "      <th>Buddhists</th>\n",
              "      <th>Christians</th>\n",
              "      <th>Folk Religions</th>\n",
              "      <th>Hindus</th>\n",
              "      <th>Jews</th>\n",
              "      <th>Muslims</th>\n",
              "      <th>Other Religions</th>\n",
              "      <th>Unaffiliated</th>\n",
              "    </tr>\n",
              "  </thead>\n",
              "  <tbody>\n",
              "    <tr>\n",
              "      <th>0</th>\n",
              "      <td>2010</td>\n",
              "      <td>World</td>\n",
              "      <td>All Countries</td>\n",
              "      <td>7.1</td>\n",
              "      <td>31.4</td>\n",
              "      <td>5.9</td>\n",
              "      <td>15.0</td>\n",
              "      <td>1.0</td>\n",
              "      <td>23.2</td>\n",
              "      <td>1.0</td>\n",
              "      <td>16.4</td>\n",
              "    </tr>\n",
              "    <tr>\n",
              "      <th>241</th>\n",
              "      <td>2020</td>\n",
              "      <td>World</td>\n",
              "      <td>All Countries</td>\n",
              "      <td>6.6</td>\n",
              "      <td>31.1</td>\n",
              "      <td>5.6</td>\n",
              "      <td>15.2</td>\n",
              "      <td>1.0</td>\n",
              "      <td>24.9</td>\n",
              "      <td>1.0</td>\n",
              "      <td>15.6</td>\n",
              "    </tr>\n",
              "    <tr>\n",
              "      <th>482</th>\n",
              "      <td>2030</td>\n",
              "      <td>World</td>\n",
              "      <td>All Countries</td>\n",
              "      <td>6.1</td>\n",
              "      <td>31.0</td>\n",
              "      <td>5.4</td>\n",
              "      <td>15.2</td>\n",
              "      <td>1.0</td>\n",
              "      <td>26.5</td>\n",
              "      <td>1.0</td>\n",
              "      <td>14.8</td>\n",
              "    </tr>\n",
              "    <tr>\n",
              "      <th>723</th>\n",
              "      <td>2040</td>\n",
              "      <td>World</td>\n",
              "      <td>All Countries</td>\n",
              "      <td>5.7</td>\n",
              "      <td>31.1</td>\n",
              "      <td>5.1</td>\n",
              "      <td>15.1</td>\n",
              "      <td>1.0</td>\n",
              "      <td>28.1</td>\n",
              "      <td>1.0</td>\n",
              "      <td>14.0</td>\n",
              "    </tr>\n",
              "    <tr>\n",
              "      <th>964</th>\n",
              "      <td>2050</td>\n",
              "      <td>World</td>\n",
              "      <td>All Countries</td>\n",
              "      <td>5.2</td>\n",
              "      <td>31.4</td>\n",
              "      <td>4.8</td>\n",
              "      <td>14.9</td>\n",
              "      <td>1.0</td>\n",
              "      <td>29.7</td>\n",
              "      <td>1.0</td>\n",
              "      <td>13.2</td>\n",
              "    </tr>\n",
              "  </tbody>\n",
              "</table>\n",
              "</div>"
            ],
            "text/plain": [
              "     Year Region         Country  ...  Muslims  Other Religions  Unaffiliated\n",
              "0    2010  World   All Countries  ...     23.2              1.0          16.4\n",
              "241  2020  World   All Countries  ...     24.9              1.0          15.6\n",
              "482  2030  World   All Countries  ...     26.5              1.0          14.8\n",
              "723  2040  World   All Countries  ...     28.1              1.0          14.0\n",
              "964  2050  World   All Countries  ...     29.7              1.0          13.2\n",
              "\n",
              "[5 rows x 11 columns]"
            ]
          },
          "metadata": {
            "tags": []
          },
          "execution_count": 6
        }
      ]
    },
    {
      "cell_type": "code",
      "metadata": {
        "id": "USw_zlU7qQ4D",
        "colab_type": "code",
        "outputId": "3a9a505b-bdf7-477c-9a5d-4aca4f3ef879",
        "colab": {
          "base_uri": "https://localhost:8080/",
          "height": 156
        }
      },
      "source": [
        "# Answer\n",
        "\n",
        "religion_projected['Region'].value_counts()"
      ],
      "execution_count": 7,
      "outputs": [
        {
          "output_type": "execute_result",
          "data": {
            "text/plain": [
              "Asia-Pacific                305\n",
              "Sub-Saharan Africa          260\n",
              "Europe                      255\n",
              "Latin America-Caribbean     245\n",
              "Middle East-North Africa    105\n",
              "North America                30\n",
              "World                         5\n",
              "Name: Region, dtype: int64"
            ]
          },
          "metadata": {
            "tags": []
          },
          "execution_count": 7
        }
      ]
    },
    {
      "cell_type": "code",
      "metadata": {
        "id": "-d83sixdrzbp",
        "colab_type": "code",
        "outputId": "691a3a4e-e805-4c68-b5b1-d0dacd9d9160",
        "colab": {
          "base_uri": "https://localhost:8080/",
          "height": 35
        }
      },
      "source": [
        "# Question 3 - Answer\n",
        "\n",
        "religion_subset['Buddhists'].mean()"
      ],
      "execution_count": 8,
      "outputs": [
        {
          "output_type": "execute_result",
          "data": {
            "text/plain": [
              "6.139999999999999"
            ]
          },
          "metadata": {
            "tags": []
          },
          "execution_count": 8
        }
      ]
    },
    {
      "cell_type": "code",
      "metadata": {
        "id": "2PGjBbHNr5Zy",
        "colab_type": "code",
        "outputId": "62117137-760c-4fb6-8aa4-00d232129df4",
        "colab": {
          "base_uri": "https://localhost:8080/",
          "height": 35
        }
      },
      "source": [
        "# Question 3 - Answer\n",
        "\n",
        "religion_subset['Christians'].mean()"
      ],
      "execution_count": 9,
      "outputs": [
        {
          "output_type": "execute_result",
          "data": {
            "text/plain": [
              "31.2"
            ]
          },
          "metadata": {
            "tags": []
          },
          "execution_count": 9
        }
      ]
    },
    {
      "cell_type": "code",
      "metadata": {
        "id": "BE_Hv6bs5ACb",
        "colab_type": "code",
        "outputId": "9f3164a6-a36f-45ac-9192-1575cd1bea0b",
        "colab": {
          "base_uri": "https://localhost:8080/",
          "height": 35
        }
      },
      "source": [
        "# Question 3\n",
        "\n",
        "# Basic structure. sm.stats.ttest_ind(x1, x2, alternative)\n",
        "\n",
        "test = sm.stats.ttest_ind(religion_subset['Buddhists'], religion_subset['Christians'], alternative='two-sided') # test object is a list\n",
        "print(test)"
      ],
      "execution_count": 10,
      "outputs": [
        {
          "output_type": "stream",
          "text": [
            "(-73.07644399303153, 1.3698036229786617e-12, 8.0)\n"
          ],
          "name": "stdout"
        }
      ]
    },
    {
      "cell_type": "code",
      "metadata": {
        "id": "m9LYw5BHsN5c",
        "colab_type": "code",
        "outputId": "392f89a2-eaa0-461c-ddb4-3c38a872390a",
        "colab": {
          "base_uri": "https://localhost:8080/",
          "height": 79
        }
      },
      "source": [
        "# Question 3 - Answer\n",
        "\n",
        "d = {'t statistic': [test[0]], 'p-value': [test[1]], 'df': [test[2]]}\n",
        "df = pd.DataFrame(data=d)\n",
        "df"
      ],
      "execution_count": 11,
      "outputs": [
        {
          "output_type": "execute_result",
          "data": {
            "text/html": [
              "<div>\n",
              "<style scoped>\n",
              "    .dataframe tbody tr th:only-of-type {\n",
              "        vertical-align: middle;\n",
              "    }\n",
              "\n",
              "    .dataframe tbody tr th {\n",
              "        vertical-align: top;\n",
              "    }\n",
              "\n",
              "    .dataframe thead th {\n",
              "        text-align: right;\n",
              "    }\n",
              "</style>\n",
              "<table border=\"1\" class=\"dataframe\">\n",
              "  <thead>\n",
              "    <tr style=\"text-align: right;\">\n",
              "      <th></th>\n",
              "      <th>t statistic</th>\n",
              "      <th>p-value</th>\n",
              "      <th>df</th>\n",
              "    </tr>\n",
              "  </thead>\n",
              "  <tbody>\n",
              "    <tr>\n",
              "      <th>0</th>\n",
              "      <td>-73.076444</td>\n",
              "      <td>1.369804e-12</td>\n",
              "      <td>8.0</td>\n",
              "    </tr>\n",
              "  </tbody>\n",
              "</table>\n",
              "</div>"
            ],
            "text/plain": [
              "   t statistic       p-value   df\n",
              "0   -73.076444  1.369804e-12  8.0"
            ]
          },
          "metadata": {
            "tags": []
          },
          "execution_count": 11
        }
      ]
    },
    {
      "cell_type": "code",
      "metadata": {
        "id": "1YceIj_38QIy",
        "colab_type": "code",
        "outputId": "5887517a-d1cb-42b3-9165-b5ac45a4bc6e",
        "colab": {
          "base_uri": "https://localhost:8080/",
          "height": 69
        }
      },
      "source": [
        "# Question 4\n",
        "\n",
        "religion_projected['Region'].unique()"
      ],
      "execution_count": 12,
      "outputs": [
        {
          "output_type": "execute_result",
          "data": {
            "text/plain": [
              "array(['World', 'North America', 'Latin America-Caribbean', 'Europe',\n",
              "       'Middle East-North Africa', 'Sub-Saharan Africa', 'Asia-Pacific'],\n",
              "      dtype=object)"
            ]
          },
          "metadata": {
            "tags": []
          },
          "execution_count": 12
        }
      ]
    },
    {
      "cell_type": "code",
      "metadata": {
        "id": "E3kBwz609jl9",
        "colab_type": "code",
        "outputId": "f0fccf72-9e08-4678-b773-f1458cb051c6",
        "colab": {
          "base_uri": "https://localhost:8080/",
          "height": 202
        }
      },
      "source": [
        "africa = religion_projected.loc[religion_projected['Region']=='Sub-Saharan Africa']\n",
        "africa.head()"
      ],
      "execution_count": 13,
      "outputs": [
        {
          "output_type": "execute_result",
          "data": {
            "text/html": [
              "<div>\n",
              "<style scoped>\n",
              "    .dataframe tbody tr th:only-of-type {\n",
              "        vertical-align: middle;\n",
              "    }\n",
              "\n",
              "    .dataframe tbody tr th {\n",
              "        vertical-align: top;\n",
              "    }\n",
              "\n",
              "    .dataframe thead th {\n",
              "        text-align: right;\n",
              "    }\n",
              "</style>\n",
              "<table border=\"1\" class=\"dataframe\">\n",
              "  <thead>\n",
              "    <tr style=\"text-align: right;\">\n",
              "      <th></th>\n",
              "      <th>Year</th>\n",
              "      <th>Region</th>\n",
              "      <th>Country</th>\n",
              "      <th>Buddhists</th>\n",
              "      <th>Christians</th>\n",
              "      <th>Folk Religions</th>\n",
              "      <th>Hindus</th>\n",
              "      <th>Jews</th>\n",
              "      <th>Muslims</th>\n",
              "      <th>Other Religions</th>\n",
              "      <th>Unaffiliated</th>\n",
              "    </tr>\n",
              "  </thead>\n",
              "  <tbody>\n",
              "    <tr>\n",
              "      <th>5</th>\n",
              "      <td>2010</td>\n",
              "      <td>Sub-Saharan Africa</td>\n",
              "      <td>All Countries</td>\n",
              "      <td>1.0</td>\n",
              "      <td>62.9</td>\n",
              "      <td>3.3</td>\n",
              "      <td>1.0</td>\n",
              "      <td>1.0</td>\n",
              "      <td>30.2</td>\n",
              "      <td>1.0</td>\n",
              "      <td>3.2</td>\n",
              "    </tr>\n",
              "    <tr>\n",
              "      <th>12</th>\n",
              "      <td>2010</td>\n",
              "      <td>Sub-Saharan Africa</td>\n",
              "      <td>Angola</td>\n",
              "      <td>1.0</td>\n",
              "      <td>90.5</td>\n",
              "      <td>4.2</td>\n",
              "      <td>1.0</td>\n",
              "      <td>1.0</td>\n",
              "      <td>1.0</td>\n",
              "      <td>1.0</td>\n",
              "      <td>5.1</td>\n",
              "    </tr>\n",
              "    <tr>\n",
              "      <th>28</th>\n",
              "      <td>2010</td>\n",
              "      <td>Sub-Saharan Africa</td>\n",
              "      <td>Benin</td>\n",
              "      <td>1.0</td>\n",
              "      <td>53.0</td>\n",
              "      <td>18.1</td>\n",
              "      <td>1.0</td>\n",
              "      <td>1.0</td>\n",
              "      <td>23.8</td>\n",
              "      <td>1.0</td>\n",
              "      <td>5.0</td>\n",
              "    </tr>\n",
              "    <tr>\n",
              "      <th>33</th>\n",
              "      <td>2010</td>\n",
              "      <td>Sub-Saharan Africa</td>\n",
              "      <td>Botswana</td>\n",
              "      <td>1.0</td>\n",
              "      <td>72.1</td>\n",
              "      <td>6.0</td>\n",
              "      <td>1.0</td>\n",
              "      <td>1.0</td>\n",
              "      <td>1.0</td>\n",
              "      <td>1.0</td>\n",
              "      <td>20.6</td>\n",
              "    </tr>\n",
              "    <tr>\n",
              "      <th>38</th>\n",
              "      <td>2010</td>\n",
              "      <td>Sub-Saharan Africa</td>\n",
              "      <td>Burkina Faso</td>\n",
              "      <td>1.0</td>\n",
              "      <td>22.5</td>\n",
              "      <td>15.4</td>\n",
              "      <td>1.0</td>\n",
              "      <td>1.0</td>\n",
              "      <td>61.6</td>\n",
              "      <td>1.0</td>\n",
              "      <td>1.0</td>\n",
              "    </tr>\n",
              "  </tbody>\n",
              "</table>\n",
              "</div>"
            ],
            "text/plain": [
              "    Year              Region  ... Other Religions  Unaffiliated\n",
              "5   2010  Sub-Saharan Africa  ...             1.0           3.2\n",
              "12  2010  Sub-Saharan Africa  ...             1.0           5.1\n",
              "28  2010  Sub-Saharan Africa  ...             1.0           5.0\n",
              "33  2010  Sub-Saharan Africa  ...             1.0          20.6\n",
              "38  2010  Sub-Saharan Africa  ...             1.0           1.0\n",
              "\n",
              "[5 rows x 11 columns]"
            ]
          },
          "metadata": {
            "tags": []
          },
          "execution_count": 13
        }
      ]
    },
    {
      "cell_type": "code",
      "metadata": {
        "id": "PzwQEIg6-X64",
        "colab_type": "code",
        "outputId": "5dc6c8aa-b43a-4048-a848-d8b8d0719c20",
        "colab": {
          "base_uri": "https://localhost:8080/",
          "height": 313
        }
      },
      "source": [
        "s.boxplot('Year', 'Christians', data=africa)\n",
        "#Jason's Answer - s.boxplot('Year', 'Christians', religion_projected.loc['Region']=='Sub-Saharan Africa'])\n",
        "\n",
        "plt.xlabel('Projected Year')\n",
        "plt.ylabel('Proportion of Christians')\n",
        "plt.title('Projected Proportion of Christians in Sub-Saharan Africa from 2010 to 2050')"
      ],
      "execution_count": 14,
      "outputs": [
        {
          "output_type": "execute_result",
          "data": {
            "text/plain": [
              "Text(0.5, 1.0, 'Projected Proportion of Christians in Sub-Saharan Africa from 2010 to 2050')"
            ]
          },
          "metadata": {
            "tags": []
          },
          "execution_count": 14
        },
        {
          "output_type": "display_data",
          "data": {
            "image/png": "[encoded data removed]",
            "text/plain": [
              "<Figure size 432x288 with 1 Axes>"
            ]
          },
          "metadata": {
            "tags": [],
            "needs_background": "light"
          }
        }
      ]
    },
    {
      "cell_type": "code",
      "metadata": {
        "id": "aayASVzrHUV8",
        "colab_type": "code",
        "outputId": "4c11cfa2-926e-4e94-a0e0-74d27002203e",
        "colab": {
          "base_uri": "https://localhost:8080/",
          "height": 136
        }
      },
      "source": [
        "religion_christ = religion_projected[['Year', 'Christians']]\n",
        "religion_christ.head(3)"
      ],
      "execution_count": 0,
      "outputs": [
        {
          "output_type": "execute_result",
          "data": {
            "text/html": [
              "<div>\n",
              "<style scoped>\n",
              "    .dataframe tbody tr th:only-of-type {\n",
              "        vertical-align: middle;\n",
              "    }\n",
              "\n",
              "    .dataframe tbody tr th {\n",
              "        vertical-align: top;\n",
              "    }\n",
              "\n",
              "    .dataframe thead th {\n",
              "        text-align: right;\n",
              "    }\n",
              "</style>\n",
              "<table border=\"1\" class=\"dataframe\">\n",
              "  <thead>\n",
              "    <tr style=\"text-align: right;\">\n",
              "      <th></th>\n",
              "      <th>Year</th>\n",
              "      <th>Christians</th>\n",
              "    </tr>\n",
              "  </thead>\n",
              "  <tbody>\n",
              "    <tr>\n",
              "      <th>0</th>\n",
              "      <td>2010</td>\n",
              "      <td>31.4</td>\n",
              "    </tr>\n",
              "    <tr>\n",
              "      <th>1</th>\n",
              "      <td>2010</td>\n",
              "      <td>77.4</td>\n",
              "    </tr>\n",
              "    <tr>\n",
              "      <th>2</th>\n",
              "      <td>2010</td>\n",
              "      <td>90.0</td>\n",
              "    </tr>\n",
              "  </tbody>\n",
              "</table>\n",
              "</div>"
            ],
            "text/plain": [
              "   Year  Christians\n",
              "0  2010        31.4\n",
              "1  2010        77.4\n",
              "2  2010        90.0"
            ]
          },
          "metadata": {
            "tags": []
          },
          "execution_count": 88
        }
      ]
    },
    {
      "cell_type": "code",
      "metadata": {
        "id": "PDpN_7aXHoFz",
        "colab_type": "code",
        "outputId": "df6af58b-467f-4d5a-9fd6-b610fddcda97",
        "colab": {
          "base_uri": "https://localhost:8080/",
          "height": 225
        }
      },
      "source": [
        "religion_christ.groupby('Year').mean()"
      ],
      "execution_count": 0,
      "outputs": [
        {
          "output_type": "execute_result",
          "data": {
            "text/html": [
              "<div>\n",
              "<style scoped>\n",
              "    .dataframe tbody tr th:only-of-type {\n",
              "        vertical-align: middle;\n",
              "    }\n",
              "\n",
              "    .dataframe tbody tr th {\n",
              "        vertical-align: top;\n",
              "    }\n",
              "\n",
              "    .dataframe thead th {\n",
              "        text-align: right;\n",
              "    }\n",
              "</style>\n",
              "<table border=\"1\" class=\"dataframe\">\n",
              "  <thead>\n",
              "    <tr style=\"text-align: right;\">\n",
              "      <th></th>\n",
              "      <th>Christians</th>\n",
              "    </tr>\n",
              "    <tr>\n",
              "      <th>Year</th>\n",
              "      <th></th>\n",
              "    </tr>\n",
              "  </thead>\n",
              "  <tbody>\n",
              "    <tr>\n",
              "      <th>2010</th>\n",
              "      <td>60.487552</td>\n",
              "    </tr>\n",
              "    <tr>\n",
              "      <th>2020</th>\n",
              "      <td>60.068880</td>\n",
              "    </tr>\n",
              "    <tr>\n",
              "      <th>2030</th>\n",
              "      <td>59.644398</td>\n",
              "    </tr>\n",
              "    <tr>\n",
              "      <th>2040</th>\n",
              "      <td>59.255602</td>\n",
              "    </tr>\n",
              "    <tr>\n",
              "      <th>2050</th>\n",
              "      <td>58.900000</td>\n",
              "    </tr>\n",
              "  </tbody>\n",
              "</table>\n",
              "</div>"
            ],
            "text/plain": [
              "      Christians\n",
              "Year            \n",
              "2010   60.487552\n",
              "2020   60.068880\n",
              "2030   59.644398\n",
              "2040   59.255602\n",
              "2050   58.900000"
            ]
          },
          "metadata": {
            "tags": []
          },
          "execution_count": 89
        }
      ]
    },
    {
      "cell_type": "code",
      "metadata": {
        "id": "jRJxaIg_-l41",
        "colab_type": "code",
        "outputId": "18e9184b-a294-430e-d9d8-74dc83259895",
        "colab": {
          "base_uri": "https://localhost:8080/",
          "height": 295
        }
      },
      "source": [
        "# Question 6\n",
        "\n",
        "locations = ['Europe', 'Asia-Pacific', 'North America']\n",
        "\n",
        "for location in locations:\n",
        "  subset = religion_projected.loc[religion_projected['Region']==location]\n",
        "  s.distplot(subset['Year'], hist=False, kde=True, label=location)\n",
        "  plt.xlabel('Projected Year')\n",
        "  plt.ylabel('Distribution')\n",
        "  plt.title('Projected Proportion of Muslims by Region')"
      ],
      "execution_count": 18,
      "outputs": [
        {
          "output_type": "display_data",
          "data": {
            "image/png": "[encoded data removed]",
            "text/plain": [
              "<Figure size 432x288 with 1 Axes>"
            ]
          },
          "metadata": {
            "tags": [],
            "needs_background": "light"
          }
        }
      ]
    },
    {
      "cell_type": "code",
      "metadata": {
        "id": "2br8KX1Dzmg3",
        "colab_type": "code",
        "outputId": "cebddc71-f441-4afd-cc49-7a48f7cd4527",
        "colab": {
          "base_uri": "https://localhost:8080/",
          "height": 297
        }
      },
      "source": [
        "s.lineplot(x='Year', y='Muslims', data=religion_projected, hue=\"Region\")\n"
      ],
      "execution_count": 19,
      "outputs": [
        {
          "output_type": "execute_result",
          "data": {
            "text/plain": [
              "<matplotlib.axes._subplots.AxesSubplot at 0x7f7eb26cd320>"
            ]
          },
          "metadata": {
            "tags": []
          },
          "execution_count": 19
        },
        {
          "output_type": "display_data",
          "data": {
            "image/png": "[encoded data removed]",
            "text/plain": [
              "<Figure size 432x288 with 1 Axes>"
            ]
          },
          "metadata": {
            "tags": [],
            "needs_background": "light"
          }
        }
      ]
    }
  ]
}